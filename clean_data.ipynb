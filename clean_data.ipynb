{
 "cells": [
  {
   "cell_type": "code",
   "execution_count": 8,
   "id": "5e40b80e",
   "metadata": {},
   "outputs": [],
   "source": [
    "import os\n",
    "import json\n",
    "import polars as pl\n",
    "from pathlib import Path"
   ]
  },
  {
   "cell_type": "markdown",
   "id": "24288550",
   "metadata": {},
   "source": [
    "## Turn File into .parquet"
   ]
  },
  {
   "cell_type": "code",
   "execution_count": 9,
   "id": "25ef0627",
   "metadata": {},
   "outputs": [],
   "source": [
    "INPUT_DIR = \"data/raw_youtube_comments\"\n",
    "OUTPUT_FILE = \"all_comments.parquet\""
   ]
  },
  {
   "cell_type": "code",
   "execution_count": 10,
   "id": "3b766233",
   "metadata": {},
   "outputs": [],
   "source": [
    "def flatten_json(d, parent_key=\"\", sep=\"_\"):\n",
    "    \"\"\"Recursively flattens a nested JSON object into a dict with prefixed keys.\"\"\"\n",
    "    items = []\n",
    "    for k, v in d.items():\n",
    "        new_key = f\"{parent_key}{sep}{k}\" if parent_key else k\n",
    "        if isinstance(v, dict):\n",
    "            items.extend(flatten_json(v, new_key, sep=sep).items())\n",
    "        else:\n",
    "            items.append((new_key, v))\n",
    "    return dict(items)"
   ]
  },
  {
   "cell_type": "code",
   "execution_count": null,
   "id": "40afb855",
   "metadata": {},
   "outputs": [],
   "source": [
    "# # Let's say you have multiple JSON files in a folder\n",
    "# data_folder = Path(\"data/raw_youtube_comments_relevance\")\n",
    "# rows = []\n",
    "\n",
    "# for file in data_folder.glob(\"*.json\"):\n",
    "#     with open(file, \"r\", encoding=\"utf-8\") as f:\n",
    "#         raw = json.load(f)\n",
    "#         for entry in raw.get(\"items\", []):  # your \"response\" field\n",
    "#             rows.append(flatten_json(entry))\n",
    "\n",
    "# # Create Polars DataFrame\n",
    "# df = pl.DataFrame(rows)\n",
    "\n",
    "# # Save to parquet\n",
    "# df.write_parquet(\"comments.parquet\")"
   ]
  },
  {
   "cell_type": "markdown",
   "id": "71c2c24f",
   "metadata": {},
   "source": [
    "## Data by relevance"
   ]
  },
  {
   "cell_type": "code",
   "execution_count": null,
   "id": "5ddd0e20",
   "metadata": {},
   "outputs": [
    {
     "data": {
      "text/html": [
       "<div><style>\n",
       ".dataframe > thead > tr,\n",
       ".dataframe > tbody > tr {\n",
       "  text-align: right;\n",
       "  white-space: pre-wrap;\n",
       "}\n",
       "</style>\n",
       "<small>shape: (5, 25)</small><table border=\"1\" class=\"dataframe\"><thead><tr><th>kind</th><th>etag</th><th>id</th><th>snippet_channelId</th><th>snippet_videoId</th><th>snippet_topLevelComment_kind</th><th>snippet_topLevelComment_etag</th><th>snippet_topLevelComment_id</th><th>snippet_topLevelComment_snippet_channelId</th><th>snippet_topLevelComment_snippet_videoId</th><th>snippet_topLevelComment_snippet_textDisplay</th><th>snippet_topLevelComment_snippet_textOriginal</th><th>snippet_topLevelComment_snippet_authorDisplayName</th><th>snippet_topLevelComment_snippet_authorProfileImageUrl</th><th>snippet_topLevelComment_snippet_authorChannelUrl</th><th>snippet_topLevelComment_snippet_authorChannelId_value</th><th>snippet_topLevelComment_snippet_canRate</th><th>snippet_topLevelComment_snippet_viewerRating</th><th>snippet_topLevelComment_snippet_likeCount</th><th>snippet_topLevelComment_snippet_publishedAt</th><th>snippet_topLevelComment_snippet_updatedAt</th><th>snippet_canReply</th><th>snippet_totalReplyCount</th><th>snippet_isPublic</th><th>replies_comments</th></tr><tr><td>str</td><td>str</td><td>str</td><td>str</td><td>str</td><td>str</td><td>str</td><td>str</td><td>str</td><td>str</td><td>str</td><td>str</td><td>str</td><td>str</td><td>str</td><td>str</td><td>bool</td><td>str</td><td>i64</td><td>str</td><td>str</td><td>bool</td><td>i64</td><td>bool</td><td>list[struct[4]]</td></tr></thead><tbody><tr><td>&quot;youtube#commentThread&quot;</td><td>&quot;5X4c9JpM8u0seA5iAaQ8P9Z30UE&quot;</td><td>&quot;Ugx_LrD9EQxPmvmHmNB4AaABAg&quot;</td><td>&quot;UCHkj014U2CQ2Nv0UZeYpE_A&quot;</td><td>&quot;kffacxfA7G4&quot;</td><td>&quot;youtube#comment&quot;</td><td>&quot;OFySluPd6L6HxyxATAhAZLZIu88&quot;</td><td>&quot;Ugx_LrD9EQxPmvmHmNB4AaABAg&quot;</td><td>&quot;UCHkj014U2CQ2Nv0UZeYpE_A&quot;</td><td>&quot;kffacxfA7G4&quot;</td><td>&quot;Virgo&quot;</td><td>&quot;Virgo&quot;</td><td>&quot;@BilalRazzaq-r4p&quot;</td><td>&quot;https://yt3.ggpht.com/ytc/AIdr…</td><td>&quot;http://www.youtube.com/@BilalR…</td><td>&quot;UCbyVaZZErCfW8kV0vPUMUqQ&quot;</td><td>true</td><td>&quot;none&quot;</td><td>0</td><td>&quot;2025-10-02T10:12:32Z&quot;</td><td>&quot;2025-10-02T10:12:32Z&quot;</td><td>true</td><td>0</td><td>true</td><td>null</td></tr><tr><td>&quot;youtube#commentThread&quot;</td><td>&quot;03_v_OV1dSXBxKOHHVoh9ddg5VY&quot;</td><td>&quot;UgwL0V8QLNB_bmXMEYx4AaABAg&quot;</td><td>&quot;UCHkj014U2CQ2Nv0UZeYpE_A&quot;</td><td>&quot;kffacxfA7G4&quot;</td><td>&quot;youtube#comment&quot;</td><td>&quot;BOyJO_vmuZ5Y20upJQHQVXlNi6Y&quot;</td><td>&quot;UgwL0V8QLNB_bmXMEYx4AaABAg&quot;</td><td>&quot;UCHkj014U2CQ2Nv0UZeYpE_A&quot;</td><td>&quot;kffacxfA7G4&quot;</td><td>&quot;Azgona&quot;</td><td>&quot;Azgona&quot;</td><td>&quot;@lindaselimi1723&quot;</td><td>&quot;https://yt3.ggpht.com/ytc/AIdr…</td><td>&quot;http://www.youtube.com/@lindas…</td><td>&quot;UCBwnn2MNaIW1rWr1J5XMoRg&quot;</td><td>true</td><td>&quot;none&quot;</td><td>0</td><td>&quot;2025-09-26T12:05:50Z&quot;</td><td>&quot;2025-09-26T12:05:50Z&quot;</td><td>true</td><td>0</td><td>true</td><td>null</td></tr><tr><td>&quot;youtube#commentThread&quot;</td><td>&quot;zijVJD5RGsUJFjt_v-8uXlf2e2E&quot;</td><td>&quot;Ugx9WwEYettdsDcZ7MV4AaABAg&quot;</td><td>&quot;UCHkj014U2CQ2Nv0UZeYpE_A&quot;</td><td>&quot;kffacxfA7G4&quot;</td><td>&quot;youtube#comment&quot;</td><td>&quot;s8On9I5xCwCWXhDdqBPBl2kELoY&quot;</td><td>&quot;Ugx9WwEYettdsDcZ7MV4AaABAg&quot;</td><td>&quot;UCHkj014U2CQ2Nv0UZeYpE_A&quot;</td><td>&quot;kffacxfA7G4&quot;</td><td>&quot;Justin &lt;a href=&quot;https://www.yo…</td><td>&quot;Justin 2:31 hoy no puedo tengo…</td><td>&quot;@JuliethandreaAsprilla&quot;</td><td>&quot;https://yt3.ggpht.com/_gSgbkBK…</td><td>&quot;http://www.youtube.com/@Juliet…</td><td>&quot;UC7_7zuBcOWGw4NzkWynlbXg&quot;</td><td>true</td><td>&quot;none&quot;</td><td>0</td><td>&quot;2025-09-26T15:38:02Z&quot;</td><td>&quot;2025-09-26T15:38:02Z&quot;</td><td>true</td><td>0</td><td>true</td><td>null</td></tr><tr><td>&quot;youtube#commentThread&quot;</td><td>&quot;12t3pbgH0bzDzU7UMs7NfLeNhdA&quot;</td><td>&quot;UgzWEHA_DyX6lhxXGRt4AaABAg&quot;</td><td>&quot;UCHkj014U2CQ2Nv0UZeYpE_A&quot;</td><td>&quot;kffacxfA7G4&quot;</td><td>&quot;youtube#comment&quot;</td><td>&quot;_hw2ZYC0sL_4Bl5YcO5psTFeOEU&quot;</td><td>&quot;UgzWEHA_DyX6lhxXGRt4AaABAg&quot;</td><td>&quot;UCHkj014U2CQ2Nv0UZeYpE_A&quot;</td><td>&quot;kffacxfA7G4&quot;</td><td>&quot;Is this before he got diddled?&quot;</td><td>&quot;Is this before he got diddled?&quot;</td><td>&quot;@Dr3w_4_u&quot;</td><td>&quot;https://yt3.ggpht.com/ytc/AIdr…</td><td>&quot;http://www.youtube.com/@Dr3w_4…</td><td>&quot;UCJ49JtaIp3vCVjKl1QtfSXg&quot;</td><td>true</td><td>&quot;none&quot;</td><td>0</td><td>&quot;2025-09-29T23:22:35Z&quot;</td><td>&quot;2025-09-29T23:22:35Z&quot;</td><td>true</td><td>0</td><td>true</td><td>null</td></tr><tr><td>&quot;youtube#commentThread&quot;</td><td>&quot;2Bs4BWOg2QNNGKEDsZkWlTAtl6Q&quot;</td><td>&quot;UgzeBP3fOh430MO3Ohx4AaABAg&quot;</td><td>&quot;UCHkj014U2CQ2Nv0UZeYpE_A&quot;</td><td>&quot;kffacxfA7G4&quot;</td><td>&quot;youtube#comment&quot;</td><td>&quot;uSqWR9fQEzeZkvrq9Ulqyd_I4fU&quot;</td><td>&quot;UgzeBP3fOh430MO3Ohx4AaABAg&quot;</td><td>&quot;UCHkj014U2CQ2Nv0UZeYpE_A&quot;</td><td>&quot;kffacxfA7G4&quot;</td><td>&quot;ロジック😮&quot;</td><td>&quot;ロジック😮&quot;</td><td>&quot;@user-zd8wp8bl3v&quot;</td><td>&quot;https://yt3.ggpht.com/ytc/AIdr…</td><td>&quot;http://www.youtube.com/@user-z…</td><td>&quot;UC6vJc-nIXA7NXzQbIftId_g&quot;</td><td>true</td><td>&quot;none&quot;</td><td>0</td><td>&quot;2025-09-27T19:18:18Z&quot;</td><td>&quot;2025-09-27T19:18:18Z&quot;</td><td>true</td><td>0</td><td>true</td><td>null</td></tr></tbody></table></div>"
      ],
      "text/plain": [
       "shape: (5, 25)\n",
       "┌───────────┬───────────┬───────────┬───────────┬───┬───────────┬───────────┬───────────┬──────────┐\n",
       "│ kind      ┆ etag      ┆ id        ┆ snippet_c ┆ … ┆ snippet_c ┆ snippet_t ┆ snippet_i ┆ replies_ │\n",
       "│ ---       ┆ ---       ┆ ---       ┆ hannelId  ┆   ┆ anReply   ┆ otalReply ┆ sPublic   ┆ comments │\n",
       "│ str       ┆ str       ┆ str       ┆ ---       ┆   ┆ ---       ┆ Count     ┆ ---       ┆ ---      │\n",
       "│           ┆           ┆           ┆ str       ┆   ┆ bool      ┆ ---       ┆ bool      ┆ list[str │\n",
       "│           ┆           ┆           ┆           ┆   ┆           ┆ i64       ┆           ┆ uct[4]]  │\n",
       "╞═══════════╪═══════════╪═══════════╪═══════════╪═══╪═══════════╪═══════════╪═══════════╪══════════╡\n",
       "│ youtube#c ┆ 5X4c9JpM8 ┆ Ugx_LrD9E ┆ UCHkj014U ┆ … ┆ true      ┆ 0         ┆ true      ┆ null     │\n",
       "│ ommentThr ┆ u0seA5iAa ┆ QxPmvmHmN ┆ 2CQ2Nv0UZ ┆   ┆           ┆           ┆           ┆          │\n",
       "│ ead       ┆ Q8P9Z30UE ┆ B4AaABAg  ┆ eYpE_A    ┆   ┆           ┆           ┆           ┆          │\n",
       "│ youtube#c ┆ 03_v_OV1d ┆ UgwL0V8QL ┆ UCHkj014U ┆ … ┆ true      ┆ 0         ┆ true      ┆ null     │\n",
       "│ ommentThr ┆ SXBxKOHHV ┆ NB_bmXMEY ┆ 2CQ2Nv0UZ ┆   ┆           ┆           ┆           ┆          │\n",
       "│ ead       ┆ oh9ddg5VY ┆ x4AaABAg  ┆ eYpE_A    ┆   ┆           ┆           ┆           ┆          │\n",
       "│ youtube#c ┆ zijVJD5RG ┆ Ugx9WwEYe ┆ UCHkj014U ┆ … ┆ true      ┆ 0         ┆ true      ┆ null     │\n",
       "│ ommentThr ┆ sUJFjt_v- ┆ ttdsDcZ7M ┆ 2CQ2Nv0UZ ┆   ┆           ┆           ┆           ┆          │\n",
       "│ ead       ┆ 8uXlf2e2E ┆ V4AaABAg  ┆ eYpE_A    ┆   ┆           ┆           ┆           ┆          │\n",
       "│ youtube#c ┆ 12t3pbgH0 ┆ UgzWEHA_D ┆ UCHkj014U ┆ … ┆ true      ┆ 0         ┆ true      ┆ null     │\n",
       "│ ommentThr ┆ bzDzU7UMs ┆ yX6lhxXGR ┆ 2CQ2Nv0UZ ┆   ┆           ┆           ┆           ┆          │\n",
       "│ ead       ┆ 7NfLeNhdA ┆ t4AaABAg  ┆ eYpE_A    ┆   ┆           ┆           ┆           ┆          │\n",
       "│ youtube#c ┆ 2Bs4BWOg2 ┆ UgzeBP3fO ┆ UCHkj014U ┆ … ┆ true      ┆ 0         ┆ true      ┆ null     │\n",
       "│ ommentThr ┆ QNNGKEDsZ ┆ h430MO3Oh ┆ 2CQ2Nv0UZ ┆   ┆           ┆           ┆           ┆          │\n",
       "│ ead       ┆ kWlTAtl6Q ┆ x4AaABAg  ┆ eYpE_A    ┆   ┆           ┆           ┆           ┆          │\n",
       "└───────────┴───────────┴───────────┴───────────┴───┴───────────┴───────────┴───────────┴──────────┘"
      ]
     },
     "execution_count": 12,
     "metadata": {},
     "output_type": "execute_result"
    }
   ],
   "source": [
    "df = pl.read_parquet(\"data/clean/relevance/comments.parquet\")\n",
    "df.head()"
   ]
  },
  {
   "cell_type": "code",
   "execution_count": 13,
   "id": "a58e8dc9",
   "metadata": {},
   "outputs": [
    {
     "data": {
      "text/plain": [
       "(1086, 25)"
      ]
     },
     "execution_count": 13,
     "metadata": {},
     "output_type": "execute_result"
    }
   ],
   "source": [
    "df.shape"
   ]
  },
  {
   "cell_type": "markdown",
   "id": "25c86eb3",
   "metadata": {},
   "source": [
    "## Data by Chronological Order"
   ]
  },
  {
   "cell_type": "code",
   "execution_count": 14,
   "id": "cec4fa25",
   "metadata": {},
   "outputs": [
    {
     "data": {
      "text/html": [
       "<div><style>\n",
       ".dataframe > thead > tr,\n",
       ".dataframe > tbody > tr {\n",
       "  text-align: right;\n",
       "  white-space: pre-wrap;\n",
       "}\n",
       "</style>\n",
       "<small>shape: (5, 25)</small><table border=\"1\" class=\"dataframe\"><thead><tr><th>kind</th><th>etag</th><th>id</th><th>snippet_channelId</th><th>snippet_videoId</th><th>snippet_topLevelComment_kind</th><th>snippet_topLevelComment_etag</th><th>snippet_topLevelComment_id</th><th>snippet_topLevelComment_snippet_channelId</th><th>snippet_topLevelComment_snippet_videoId</th><th>snippet_topLevelComment_snippet_textDisplay</th><th>snippet_topLevelComment_snippet_textOriginal</th><th>snippet_topLevelComment_snippet_authorDisplayName</th><th>snippet_topLevelComment_snippet_authorProfileImageUrl</th><th>snippet_topLevelComment_snippet_authorChannelUrl</th><th>snippet_topLevelComment_snippet_authorChannelId_value</th><th>snippet_topLevelComment_snippet_canRate</th><th>snippet_topLevelComment_snippet_viewerRating</th><th>snippet_topLevelComment_snippet_likeCount</th><th>snippet_topLevelComment_snippet_publishedAt</th><th>snippet_topLevelComment_snippet_updatedAt</th><th>snippet_canReply</th><th>snippet_totalReplyCount</th><th>snippet_isPublic</th><th>replies_comments</th></tr><tr><td>str</td><td>str</td><td>str</td><td>str</td><td>str</td><td>str</td><td>str</td><td>str</td><td>str</td><td>str</td><td>str</td><td>str</td><td>str</td><td>str</td><td>str</td><td>str</td><td>bool</td><td>str</td><td>i64</td><td>str</td><td>str</td><td>bool</td><td>i64</td><td>bool</td><td>list[struct[4]]</td></tr></thead><tbody><tr><td>&quot;youtube#commentThread&quot;</td><td>&quot;uQA-qS9CXMbmpJnBFzzYVKNAsvM&quot;</td><td>&quot;UgxJOtvRgP-TK-DDSbh4AaABAg&quot;</td><td>&quot;UCHkj014U2CQ2Nv0UZeYpE_A&quot;</td><td>&quot;kffacxfA7G4&quot;</td><td>&quot;youtube#comment&quot;</td><td>&quot;ftCX1u_cMcFYWvy1sForf9HYYlo&quot;</td><td>&quot;UgxJOtvRgP-TK-DDSbh4AaABAg&quot;</td><td>&quot;UCHkj014U2CQ2Nv0UZeYpE_A&quot;</td><td>&quot;kffacxfA7G4&quot;</td><td>&quot;Good reason holy grain&quot;</td><td>&quot;Good reason holy grain&quot;</td><td>&quot;@nishapatel-m8r&quot;</td><td>&quot;https://yt3.ggpht.com/ytc/AIdr…</td><td>&quot;http://www.youtube.com/@nishap…</td><td>&quot;UC1pcc2njrSbt9Dxvv7jCZcQ&quot;</td><td>true</td><td>&quot;none&quot;</td><td>1</td><td>&quot;2025-09-24T17:11:11Z&quot;</td><td>&quot;2025-09-24T17:11:11Z&quot;</td><td>true</td><td>0</td><td>true</td><td>null</td></tr><tr><td>&quot;youtube#commentThread&quot;</td><td>&quot;4hudTL3Z5iN4pgKkkQbIulOJ5EM&quot;</td><td>&quot;UgxtC2RpNWCNRupMHvl4AaABAg&quot;</td><td>&quot;UCHkj014U2CQ2Nv0UZeYpE_A&quot;</td><td>&quot;kffacxfA7G4&quot;</td><td>&quot;youtube#comment&quot;</td><td>&quot;rTwa0LUA1izDUGc0PKXTIu-GiJg&quot;</td><td>&quot;UgxtC2RpNWCNRupMHvl4AaABAg&quot;</td><td>&quot;UCHkj014U2CQ2Nv0UZeYpE_A&quot;</td><td>&quot;kffacxfA7G4&quot;</td><td>&quot;anyone in 2025 ....... lets ga…</td><td>&quot;anyone in 2025 ....... lets ga…</td><td>&quot;@moloantoa8655&quot;</td><td>&quot;https://yt3.ggpht.com/sCWKiUE8…</td><td>&quot;http://www.youtube.com/@moloan…</td><td>&quot;UCHLFXF2C8LdrjPhH3Vi4dyA&quot;</td><td>true</td><td>&quot;none&quot;</td><td>56</td><td>&quot;2025-09-24T16:47:44Z&quot;</td><td>&quot;2025-09-24T16:47:44Z&quot;</td><td>true</td><td>8</td><td>true</td><td>[{&quot;youtube#comment&quot;,&quot;aaOFfL5gP8hlrICa-lZ1PtGajTc&quot;,&quot;UgxtC2RpNWCNRupMHvl4AaABAg.ANT03nbSg30ANTQ5hnoIcR&quot;,{&quot;UCHkj014U2CQ2Nv0UZeYpE_A&quot;,&quot;kffacxfA7G4&quot;,&quot;hehe&quot;,&quot;hehe&quot;,&quot;UgxtC2RpNWCNRupMHvl4AaABAg&quot;,&quot;@Toliii_&quot;,&quot;https://yt3.ggpht.com/zOobxWViS3ZZQ4T5dmDK3bkleUQZGHV4sPgxanVnhUeqtcmYMBVXtIlzRVNRR_3Sqqu-Px0IRc4=s48-c-k-c0x00ffffff-no-rj&quot;,&quot;http://www.youtube.com/@Toliii_&quot;,{&quot;UCmiE9AN4VP-mbZLe4YZIUeA&quot;},true,&quot;none&quot;,2,&quot;2025-09-24T20:35:12Z&quot;,&quot;2025-09-24T20:35:12Z&quot;}}, {&quot;youtube#comment&quot;,&quot;RApwV-DBVk3KyXkgj5WdBT7wVg8&quot;,&quot;UgxtC2RpNWCNRupMHvl4AaABAg.ANT03nbSg30ANTc5AYS6rZ&quot;,{&quot;UCHkj014U2CQ2Nv0UZeYpE_A&quot;,&quot;kffacxfA7G4&quot;,&quot;Here bro, just for nostalgia&quot;,&quot;Here bro, just for nostalgia&quot;,&quot;UgxtC2RpNWCNRupMHvl4AaABAg&quot;,&quot;@AssSlayer-v4q&quot;,&quot;https://yt3.ggpht.com/fJvVUbGK5uNPv-jG7cX4v0N_-VNNUFzOSqeMOBPuAgqtqY30T9Pj2DaYq3-tCJIsemU5_BeC-w=s48-c-k-c0x00ffffff-no-rj&quot;,&quot;http://www.youtube.com/@AssSlayer-v4q&quot;,{&quot;UCBELkmM6LYQ02rNyibcTrTA&quot;},true,&quot;none&quot;,0,&quot;2025-09-24T22:28:43Z&quot;,&quot;2025-09-24T22:28:43Z&quot;}}, … {&quot;youtube#comment&quot;,&quot;z2aiV_-BciedbhIBylMPA4XAMaY&quot;,&quot;UgxtC2RpNWCNRupMHvl4AaABAg.ANT03nbSg30ANWq7skb7fa&quot;,{&quot;UCHkj014U2CQ2Nv0UZeYpE_A&quot;,&quot;kffacxfA7G4&quot;,&quot;Hey&quot;,&quot;Hey&quot;,&quot;UgxtC2RpNWCNRupMHvl4AaABAg&quot;,&quot;@Eliotxpresso&quot;,&quot;https://yt3.ggpht.com/cXSFxB5g6oLy2imLdKik8qZ6UpUFVKiXus1JCoE8wxja8tWVEl0Q6Dn6qUTSd9cruBPYBS0U=s48-c-k-c0x00ffffff-no-rj&quot;,&quot;http://www.youtube.com/@Eliotxpresso&quot;,{&quot;UC3v-Xu6dpdHX0kZva3NnJXA&quot;},true,&quot;none&quot;,1,&quot;2025-09-26T04:29:08Z&quot;,&quot;2025-09-26T04:29:08Z&quot;}}]</td></tr><tr><td>&quot;youtube#commentThread&quot;</td><td>&quot;Mh2HvwFyqTHuY3lmXdtWdqTXbSs&quot;</td><td>&quot;UgxKAugIlYmsTGIUgxt4AaABAg&quot;</td><td>&quot;UCHkj014U2CQ2Nv0UZeYpE_A&quot;</td><td>&quot;kffacxfA7G4&quot;</td><td>&quot;youtube#comment&quot;</td><td>&quot;VUb_AWjx-fRjqJH9VA1DiG7tWhc&quot;</td><td>&quot;UgxKAugIlYmsTGIUgxt4AaABAg&quot;</td><td>&quot;UCHkj014U2CQ2Nv0UZeYpE_A&quot;</td><td>&quot;kffacxfA7G4&quot;</td><td>&quot;After so many years people r s…</td><td>&quot;After so many years people r s…</td><td>&quot;@Meckzy_on60fps&quot;</td><td>&quot;https://yt3.ggpht.com/7OthEhNG…</td><td>&quot;http://www.youtube.com/@Meckzy…</td><td>&quot;UCfdxsCfK0qJGZBc-GBOX1UA&quot;</td><td>true</td><td>&quot;none&quot;</td><td>1</td><td>&quot;2025-09-24T16:37:23Z&quot;</td><td>&quot;2025-09-24T16:37:23Z&quot;</td><td>true</td><td>0</td><td>true</td><td>null</td></tr><tr><td>&quot;youtube#commentThread&quot;</td><td>&quot;zWwNW4kE0lNRZOOqWWdZLfhx_4o&quot;</td><td>&quot;UgyTyY11iDQ0--9qH_54AaABAg&quot;</td><td>&quot;UCHkj014U2CQ2Nv0UZeYpE_A&quot;</td><td>&quot;kffacxfA7G4&quot;</td><td>&quot;youtube#comment&quot;</td><td>&quot;DpsifoeTtomPgd94ik0z42wxOUo&quot;</td><td>&quot;UgyTyY11iDQ0--9qH_54AaABAg&quot;</td><td>&quot;UCHkj014U2CQ2Nv0UZeYpE_A&quot;</td><td>&quot;kffacxfA7G4&quot;</td><td>&quot;You&amp;#39;re a legend if you&amp;#39…</td><td>&quot;You&#x27;re a legend if you&#x27;re list…</td><td>&quot;@MyFlower_PARKJimin&quot;</td><td>&quot;https://yt3.ggpht.com/-yfnrXAJ…</td><td>&quot;http://www.youtube.com/@MyFlow…</td><td>&quot;UCdGwvLMmAb0WeybPerBJaZw&quot;</td><td>true</td><td>&quot;none&quot;</td><td>255</td><td>&quot;2025-09-24T16:36:24Z&quot;</td><td>&quot;2025-09-24T16:36:24Z&quot;</td><td>true</td><td>8</td><td>true</td><td>[{&quot;youtube#comment&quot;,&quot;dOuOZdi928gW9vhZPnplL_8tJZE&quot;,&quot;UgyTyY11iDQ0--9qH_54AaABAg.ANSzlicp7b1ANTZh8Hv_uK&quot;,{&quot;UCHkj014U2CQ2Nv0UZeYpE_A&quot;,&quot;kffacxfA7G4&quot;,&quot;You&amp;#39;re going to break the world record for the oldest virgin💪&quot;,&quot;You&#x27;re going to break the world record for the oldest virgin💪&quot;,&quot;UgyTyY11iDQ0--9qH_54AaABAg&quot;,&quot;@therridethr4463&quot;,&quot;https://yt3.ggpht.com/ytc/AIdro_knUhSruL3XYpUntnZnDgbe0HJlAHpsH9rFZYpXGCOK0IzNS94q7eGlq8R0YGI-SbSa0g=s48-c-k-c0x00ffffff-no-rj&quot;,&quot;http://www.youtube.com/@therridethr4463&quot;,{&quot;UC6FD8MyJMqLcLi0plLWjZXA&quot;},true,&quot;none&quot;,0,&quot;2025-09-24T21:59:05Z&quot;,&quot;2025-09-24T21:59:05Z&quot;}}, {&quot;youtube#comment&quot;,&quot;_PjNkOa757KBZe4Xnb-rVkRsdZ0&quot;,&quot;UgyTyY11iDQ0--9qH_54AaABAg.ANSzlicp7b1ANWtkxYvSB0&quot;,{&quot;UCHkj014U2CQ2Nv0UZeYpE_A&quot;,&quot;kffacxfA7G4&quot;,&quot;Me😢&quot;,&quot;Me😢&quot;,&quot;UgyTyY11iDQ0--9qH_54AaABAg&quot;,&quot;@MeseretKena-n8z&quot;,&quot;https://yt3.ggpht.com/2izwlO-QR4BHy1i4pQgPmxW3hM1gumjJ86A6C5HUQzDT32PezHK6tEOKYRyOKT1SIydlXnPKNKc=s48-c-k-c0x00ffffff-no-rj&quot;,&quot;http://www.youtube.com/@MeseretKena-n8z&quot;,{&quot;UC76FbqPM6W8Q6szUQA8Y6HA&quot;},true,&quot;none&quot;,4,&quot;2025-09-26T05:00:50Z&quot;,&quot;2025-09-26T05:00:50Z&quot;}}, … {&quot;youtube#comment&quot;,&quot;xnCWwY_mxRILp8EziEUuiHul6JQ&quot;,&quot;UgyTyY11iDQ0--9qH_54AaABAg.ANSzlicp7b1ANXs6T4C9Gt&quot;,{&quot;UCHkj014U2CQ2Nv0UZeYpE_A&quot;,&quot;kffacxfA7G4&quot;,&quot;i was 10 year old in 2010 bro&quot;,&quot;i was 10 year old in 2010 bro&quot;,&quot;UgyTyY11iDQ0--9qH_54AaABAg&quot;,&quot;@ThuyLeThiThu-v5l&quot;,&quot;https://yt3.ggpht.com/jk2x-C4B2iIPC9XDHajpYYqAcVh2k_iCNmo4_rFNsmSYqYkKQ-qBM5L2h_bnJXu0_malQXkjIQ=s48-c-k-c0x00ffffff-no-rj&quot;,&quot;http://www.youtube.com/@ThuyLeThiThu-v5l&quot;,{&quot;UCU16bY5pEVqYtM7yOJUoKGA&quot;},true,&quot;none&quot;,5,&quot;2025-09-26T14:05:40Z&quot;,&quot;2025-09-26T14:05:40Z&quot;}}]</td></tr><tr><td>&quot;youtube#commentThread&quot;</td><td>&quot;U7baMib9pe2lkg_Ls0Ylnzu6KoY&quot;</td><td>&quot;UgwujpmaPaL9W-RnFjN4AaABAg&quot;</td><td>&quot;UCHkj014U2CQ2Nv0UZeYpE_A&quot;</td><td>&quot;kffacxfA7G4&quot;</td><td>&quot;youtube#comment&quot;</td><td>&quot;fgzPU6soxIbzkyDzNcU7S6H1sKU&quot;</td><td>&quot;UgwujpmaPaL9W-RnFjN4AaABAg&quot;</td><td>&quot;UCHkj014U2CQ2Nv0UZeYpE_A&quot;</td><td>&quot;kffacxfA7G4&quot;</td><td>&quot;2050 anyone?&quot;</td><td>&quot;2050 anyone?&quot;</td><td>&quot;@tuyamarino&quot;</td><td>&quot;https://yt3.ggpht.com/ytc/AIdr…</td><td>&quot;http://www.youtube.com/@tuyama…</td><td>&quot;UC3PwcVCdUGjmfELhGU7ZiPg&quot;</td><td>true</td><td>&quot;none&quot;</td><td>0</td><td>&quot;2025-09-24T16:27:29Z&quot;</td><td>&quot;2025-09-24T16:27:29Z&quot;</td><td>true</td><td>0</td><td>true</td><td>null</td></tr></tbody></table></div>"
      ],
      "text/plain": [
       "shape: (5, 25)\n",
       "┌───────────┬───────────┬───────────┬───────────┬───┬───────────┬───────────┬───────────┬──────────┐\n",
       "│ kind      ┆ etag      ┆ id        ┆ snippet_c ┆ … ┆ snippet_c ┆ snippet_t ┆ snippet_i ┆ replies_ │\n",
       "│ ---       ┆ ---       ┆ ---       ┆ hannelId  ┆   ┆ anReply   ┆ otalReply ┆ sPublic   ┆ comments │\n",
       "│ str       ┆ str       ┆ str       ┆ ---       ┆   ┆ ---       ┆ Count     ┆ ---       ┆ ---      │\n",
       "│           ┆           ┆           ┆ str       ┆   ┆ bool      ┆ ---       ┆ bool      ┆ list[str │\n",
       "│           ┆           ┆           ┆           ┆   ┆           ┆ i64       ┆           ┆ uct[4]]  │\n",
       "╞═══════════╪═══════════╪═══════════╪═══════════╪═══╪═══════════╪═══════════╪═══════════╪══════════╡\n",
       "│ youtube#c ┆ uQA-qS9CX ┆ UgxJOtvRg ┆ UCHkj014U ┆ … ┆ true      ┆ 0         ┆ true      ┆ null     │\n",
       "│ ommentThr ┆ MbmpJnBFz ┆ P-TK-DDSb ┆ 2CQ2Nv0UZ ┆   ┆           ┆           ┆           ┆          │\n",
       "│ ead       ┆ zYVKNAsvM ┆ h4AaABAg  ┆ eYpE_A    ┆   ┆           ┆           ┆           ┆          │\n",
       "│ youtube#c ┆ 4hudTL3Z5 ┆ UgxtC2RpN ┆ UCHkj014U ┆ … ┆ true      ┆ 8         ┆ true      ┆ [{\"youtu │\n",
       "│ ommentThr ┆ iN4pgKkkQ ┆ WCNRupMHv ┆ 2CQ2Nv0UZ ┆   ┆           ┆           ┆           ┆ be#comme │\n",
       "│ ead       ┆ bIulOJ5EM ┆ l4AaABAg  ┆ eYpE_A    ┆   ┆           ┆           ┆           ┆ nt\",\"aaO │\n",
       "│           ┆           ┆           ┆           ┆   ┆           ┆           ┆           ┆ FfL5gP…  │\n",
       "│ youtube#c ┆ Mh2HvwFyq ┆ UgxKAugIl ┆ UCHkj014U ┆ … ┆ true      ┆ 0         ┆ true      ┆ null     │\n",
       "│ ommentThr ┆ THuY3lmXd ┆ YmsTGIUgx ┆ 2CQ2Nv0UZ ┆   ┆           ┆           ┆           ┆          │\n",
       "│ ead       ┆ tWdqTXbSs ┆ t4AaABAg  ┆ eYpE_A    ┆   ┆           ┆           ┆           ┆          │\n",
       "│ youtube#c ┆ zWwNW4kE0 ┆ UgyTyY11i ┆ UCHkj014U ┆ … ┆ true      ┆ 8         ┆ true      ┆ [{\"youtu │\n",
       "│ ommentThr ┆ lNRZOOqWW ┆ DQ0--9qH_ ┆ 2CQ2Nv0UZ ┆   ┆           ┆           ┆           ┆ be#comme │\n",
       "│ ead       ┆ dZLfhx_4o ┆ 54AaABAg  ┆ eYpE_A    ┆   ┆           ┆           ┆           ┆ nt\",\"dOu │\n",
       "│           ┆           ┆           ┆           ┆   ┆           ┆           ┆           ┆ OZdi92…  │\n",
       "│ youtube#c ┆ U7baMib9p ┆ UgwujpmaP ┆ UCHkj014U ┆ … ┆ true      ┆ 0         ┆ true      ┆ null     │\n",
       "│ ommentThr ┆ e2lkg_Ls0 ┆ aL9W-RnFj ┆ 2CQ2Nv0UZ ┆   ┆           ┆           ┆           ┆          │\n",
       "│ ead       ┆ Ylnzu6KoY ┆ N4AaABAg  ┆ eYpE_A    ┆   ┆           ┆           ┆           ┆          │\n",
       "└───────────┴───────────┴───────────┴───────────┴───┴───────────┴───────────┴───────────┴──────────┘"
      ]
     },
     "execution_count": 14,
     "metadata": {},
     "output_type": "execute_result"
    }
   ],
   "source": [
    "df = pl.read_parquet(\"data/clean/chronological/comments.parquet\")\n",
    "df.head()"
   ]
  },
  {
   "cell_type": "code",
   "execution_count": 15,
   "id": "24e5a50c",
   "metadata": {},
   "outputs": [
    {
     "data": {
      "text/plain": [
       "(2000, 25)"
      ]
     },
     "execution_count": 15,
     "metadata": {},
     "output_type": "execute_result"
    }
   ],
   "source": [
    "df.shape"
   ]
  }
 ],
 "metadata": {
  "kernelspec": {
   "display_name": "respai",
   "language": "python",
   "name": "python3"
  },
  "language_info": {
   "codemirror_mode": {
    "name": "ipython",
    "version": 3
   },
   "file_extension": ".py",
   "mimetype": "text/x-python",
   "name": "python",
   "nbconvert_exporter": "python",
   "pygments_lexer": "ipython3",
   "version": "3.12.11"
  }
 },
 "nbformat": 4,
 "nbformat_minor": 5
}
